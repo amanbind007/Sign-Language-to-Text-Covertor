{
 "cells": [
  {
   "cell_type": "markdown",
   "metadata": {},
   "source": [
    "This script will increase the number of videos from 30 to 60 by flipping them horizontally, so that the sign language translator can work for both right hand and left hand users. And also increase the dataset\n",
    "\n",
    "You have to do nothing, just run this script where you have created your main dataset, it will automatically add videos in the videos dataset directory.\n",
    "\n",
    "if videos were numbered from 0-29, it will add flipped videos videos from 30 to 59 in the same folder of that action."
   ]
  },
  {
   "cell_type": "code",
   "execution_count": null,
   "metadata": {},
   "outputs": [],
   "source": [
    "import cv2\n",
    "from cv2 import VideoWriter\n",
    "from cv2 import VideoWriter_fourcc\n",
    "import os\n",
    "import numpy as np"
   ]
  },
  {
   "cell_type": "code",
   "execution_count": 2,
   "metadata": {},
   "outputs": [],
   "source": [
    "# Path for exported data, numpy arrays\n",
    "DATA_PATH = os.path.join('Videos_Data') # Path of your original videos dataset\n",
    "# Actions that we try to detect\n",
    "actions = np.array(['again','boy','deaf','finish','girl','go','goodbye','hearing','hello','help',\n",
    "'how','i','know','like','love','man','more','my','need','no',\n",
    "'none','not','please','right','school','science','sentence','sign-language','sorry','sports',\n",
    "'student','thank-you','that','want','what','when','where','who','why','with',\n",
    "'without','woman','yes','you','your','i-love-you','youre-welcome','intelligent','friend','come-here',\n",
    "'go-away','see-you-later','baby','name'])\n",
    "\n",
    "\n",
    "no_videos = 30  # Number of sequences for each action\n",
    "sequence_length = 60  # Number of frames in each sequence"
   ]
  },
  {
   "cell_type": "code",
   "execution_count": 5,
   "metadata": {},
   "outputs": [
    {
     "ename": "",
     "evalue": "",
     "output_type": "error",
     "traceback": [
      "\u001b[1;31mThe Kernel crashed while executing code in the the current cell or a previous cell. Please review the code in the cell(s) to identify a possible cause of the failure. Click <a href='https://aka.ms/vscodeJupyterKernelCrash'>here</a> for more info. View Jupyter <a href='command:jupyter.viewOutput'>log</a> for further details."
     ]
    }
   ],
   "source": [
    "#flip horizontally\n",
    "\n",
    "for action in actions:\n",
    "    for sequence in range(no_videos):\n",
    "        cap = cv2.VideoCapture('Videos_Data/{}/{}_{}.mp4'.format(action, action, sequence))\n",
    "        width= int(cap.get(cv2.CAP_PROP_FRAME_WIDTH))\n",
    "        height= int(cap.get(cv2.CAP_PROP_FRAME_HEIGHT))\n",
    "        fourcc = cv2.VideoWriter_fourcc(*'mp4v')\n",
    "        video = VideoWriter('Videos_Data/{}/{}_{}.mp4'.format(action, action, sequence+30), fourcc, 30.0, (width, height))\n",
    "        while(cap.isOpened()):\n",
    "            ret, frame = cap.read()\n",
    "            if ret == True:\n",
    "                frame = cv2.flip(frame, 1)\n",
    "                video.write(frame)\n",
    "                cv2.imshow('frame', frame)\n",
    "            else:\n",
    "                break\n",
    "\n",
    "        cap.release()\n",
    "        video.release()\n",
    "\n",
    "\n",
    "cv2.destroyAllWindows()\n",
    "\n",
    "    "
   ]
  }
 ],
 "metadata": {
  "kernelspec": {
   "display_name": "Python 3.10.6 ('sign-lang-venv')",
   "language": "python",
   "name": "python3"
  },
  "language_info": {
   "codemirror_mode": {
    "name": "ipython",
    "version": 3
   },
   "file_extension": ".py",
   "mimetype": "text/x-python",
   "name": "python",
   "nbconvert_exporter": "python",
   "pygments_lexer": "ipython3",
   "version": "3.10.6"
  },
  "orig_nbformat": 4,
  "vscode": {
   "interpreter": {
    "hash": "893ab27978d457e3e6fe9f028332c2824b11422bc0a3ec196d56d5d90be81734"
   }
  }
 },
 "nbformat": 4,
 "nbformat_minor": 2
}
