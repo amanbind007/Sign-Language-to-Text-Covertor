{
 "cells": [
  {
   "cell_type": "code",
   "execution_count": 1,
   "metadata": {},
   "outputs": [],
   "source": [
    "import cv2\n",
    "from cv2 import VideoWriter\n",
    "from cv2 import VideoWriter_fourcc\n",
    "import os\n",
    "import numpy as np"
   ]
  },
  {
   "cell_type": "code",
   "execution_count": 2,
   "metadata": {},
   "outputs": [],
   "source": [
    "# Path for exported data, numpy arrays\n",
    "DATA_PATH = os.path.join('Videos_Data') # Create a folder named MP_Data in the current directory\n",
    "\n",
    "# Actions that we will be creating data for\n",
    "# For action \"-Action Not Detected-\" we will be creating data for background\n",
    "actions = np.array(['again','boy','deaf','finish','girl','go','goodbye','hearing','hello','help',\n",
    "'how','i','know','like','love','man','more','my','need','no',\n",
    "'none','not','please','right','school','science','sentence','sign-language','sorry','sports',\n",
    "'student','thank-you','that','want','what','when','where','who','why','with',\n",
    "'without','woman','yes','you','your','i-love-you','youre-welcome','intelligent','friend','come-here',\n",
    "'go-away','see-you-later','baby','name'])\n",
    "\n",
    "\n",
    "no_videos = 30  # Number of videos for each action\n",
    "sequence_length = 60  # Number of frames in each sequence (30fps means 1 second and 60 means 2 seconds)"
   ]
  },
  {
   "cell_type": "code",
   "execution_count": 3,
   "metadata": {},
   "outputs": [],
   "source": [
    "for action in actions: # For each action\n",
    "    for sequence in range(no_videos): # For each sequence\n",
    "        try:\n",
    "            os.makedirs(os.path. join(DATA_PATH, action)) # Create a folder for that action\n",
    "        except:\n",
    "            pass"
   ]
  },
  {
   "cell_type": "code",
   "execution_count": 4,
   "metadata": {},
   "outputs": [
    {
     "ename": "",
     "evalue": "",
     "output_type": "error",
     "traceback": [
      "\u001b[1;31mThe Kernel crashed while executing code in the the current cell or a previous cell. Please review the code in the cell(s) to identify a possible cause of the failure. Click <a href='https://aka.ms/vscodeJupyterKernelCrash'>here</a> for more info. View Jupyter <a href='command:jupyter.viewOutput'>log</a> for further details."
     ]
    }
   ],
   "source": [
    "# video capture\n",
    "cap = cv2.VideoCapture(0)\n",
    "\n",
    "\n",
    "#Action To Capture\n",
    "acts = []\n",
    "\n",
    "# Enter the action that you want to capture in the list, one by one\n",
    "# For example, if you want to capture \"Hello\" and \"I Love You\" then enter\n",
    "# acts = ['hello','i-love-you']\n",
    "# If you want to capture all the actions then enter\n",
    "# acts = actions\n",
    "# I recommend that you capture one action at a time, because it will be a less stressful process for you\n",
    "\n",
    "\n",
    "# Before capturing the action it will provide you 10 seconds to get ready\n",
    "# After that it will start capturing the action\n",
    "\n",
    "\n",
    "acts.append('-Action Not Detected-')\n",
    "\n",
    "width= int(cap.get(cv2.CAP_PROP_FRAME_WIDTH))\n",
    "height= int(cap.get(cv2.CAP_PROP_FRAME_HEIGHT))\n",
    "\n",
    "\n",
    "\n",
    "    \n",
    "# NEW LOOP\n",
    "# Loop through actions\n",
    "cv2.waitKey(10000) # Wait for 10 seconds\n",
    "for act in acts: # For each action\n",
    "    # Loop through sequences aka videos\n",
    "    for sequence in range(no_videos): # For each sequence\n",
    "    # Loop through video length aka sequence length\n",
    "        fourcc = cv2.VideoWriter_fourcc(*'mp4v')\n",
    "        video = VideoWriter('Videos_Data/{}/{}_{}.mp4'.format(act, act, sequence), fourcc, 30.0, (width, height))\n",
    "\n",
    "        for frame_num in range(sequence_length):\n",
    "\n",
    "           \n",
    "            \n",
    "\n",
    "            # Read feed\n",
    "            ret, frame = cap.read() # Read the feed i.e. the video frame\n",
    "            # write the frame\n",
    "            \n",
    "            video.write(frame)\n",
    "            \n",
    "                \n",
    "            # NEW Apply wait logic\n",
    "            if frame_num == 0: \n",
    "                cv2.putText(frame, 'STARTING COLLECTION', (20,40), \n",
    "                               cv2.FONT_HERSHEY_SIMPLEX, 1, (0,255, 0), 4, cv2.LINE_AA) # Display the text on the image about starting the collection\n",
    "                cv2.putText(frame, '\"{}\" {}'.format(act, sequence), (570,40), \n",
    "                               cv2.FONT_HERSHEY_SIMPLEX, 1, (50,205,50), 4, cv2.LINE_AA) # Display the text on the image about the action and sequence\n",
    "                # Show to screen\n",
    "                cv2.imshow('OpenCV Feed', frame) # Display the image\n",
    "                cv2.waitKey(2000) # Wait for 2 seconds\n",
    "            else: \n",
    "                cv2.putText(frame, '\"{}\" {}'.format(act, sequence), (570,40), # Display the text on the image about the action and sequence\n",
    "                               cv2.FONT_HERSHEY_SIMPLEX, 1, (0, 0, 255), 4, cv2.LINE_AA) \n",
    "                    # Show to screen\n",
    "                cv2.imshow('OpenCV Feed', frame) # Display the image  \n",
    "                \n",
    "            \n",
    "\n",
    "            # Break gracefully\n",
    "            if cv2.waitKey(10) & 0xFF == ord('q'): # If the user presses the 'q' key it will break the loop\n",
    "                break\n",
    "\n",
    "        #cap.release() \n",
    "        video.release()\n",
    "                    \n",
    "cap.release() \n",
    "cv2.destroyAllWindows()"
   ]
  }
 ],
 "metadata": {
  "kernelspec": {
   "display_name": "Python 3.10.6 ('sign-lang-venv')",
   "language": "python",
   "name": "python3"
  },
  "language_info": {
   "codemirror_mode": {
    "name": "ipython",
    "version": 3
   },
   "file_extension": ".py",
   "mimetype": "text/x-python",
   "name": "python",
   "nbconvert_exporter": "python",
   "pygments_lexer": "ipython3",
   "version": "3.10.6"
  },
  "orig_nbformat": 4,
  "vscode": {
   "interpreter": {
    "hash": "893ab27978d457e3e6fe9f028332c2824b11422bc0a3ec196d56d5d90be81734"
   }
  }
 },
 "nbformat": 4,
 "nbformat_minor": 2
}
