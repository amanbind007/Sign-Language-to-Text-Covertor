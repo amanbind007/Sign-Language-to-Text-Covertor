{
 "cells": [
  {
   "cell_type": "markdown",
   "metadata": {},
   "source": [
    "This script will create numpy array (.npy files) for each frames in each video and save them accordingly in a folder automatically.\n",
    "Just run the script and it will work automatically"
   ]
  },
  {
   "cell_type": "code",
   "execution_count": null,
   "metadata": {},
   "outputs": [],
   "source": [
    "import cv2\n",
    "import mediapipe as mp\n",
    "import numpy as np\n",
    "import os\n",
    "from matplotlib import pyplot as plt\n",
    "import time"
   ]
  },
  {
   "cell_type": "code",
   "execution_count": 2,
   "metadata": {},
   "outputs": [],
   "source": [
    "mp_holistic = mp.solutions.holistic # Holistic model is used for pose detection\n",
    "mp_drawing = mp.solutions.drawing_utils # Drawing utilities on the image detected by the model"
   ]
  },
  {
   "cell_type": "code",
   "execution_count": 3,
   "metadata": {},
   "outputs": [],
   "source": [
    "def mediapipe_detection(image, model):\n",
    "\n",
    "    # Convert the BGR image to RGB before processing\n",
    "    image = cv2.cvtColor(image, cv2.COLOR_BGR2RGB) # BGR to RGB because the model is trained on RGB images\n",
    "\n",
    "    # Image is no longer writeable\n",
    "    image.flags.writeable= False  \n",
    "\n",
    "    # Make prediction\n",
    "    results = model.process(image) # Make prediction on the image using the model and store the results in results\n",
    "\n",
    "    # Image is now writeable\n",
    "    image.flags.writeable = True \n",
    "\n",
    "    # Convert back to BGR\n",
    "    image = cv2.cvtColor(image, cv2.COLOR_RGB2BGR) # RGB to BGR because we are going to display the image using cv2\n",
    "    return image, results # Return the image and the results. Results contain the landmarks of the image"
   ]
  },
  {
   "cell_type": "code",
   "execution_count": 4,
   "metadata": {},
   "outputs": [],
   "source": [
    "def draw_styled_landmarks (image, results):\n",
    "    # Draw face connections\n",
    "    # mp_drawing.draw_landmarks(image, results.face_landmarks, mp_holistic.FACEMESH_TESSELATION, # Draw the face landmarks\n",
    "    # mp_drawing. DrawingSpec (color=(80,110,10), thickness=1, circle_radius=1), # Draw the face connections\n",
    "    # mp_drawing.DrawingSpec(color=(80,256,121), thickness=1, circle_radius=1) # Draw the face connections\n",
    "    # )\n",
    "    \n",
    "    # Draw pose connections\n",
    "    mp_drawing.draw_landmarks(image, results.pose_landmarks, mp_holistic. POSE_CONNECTIONS, # Draw the pose landmarks\n",
    "    mp_drawing. DrawingSpec (color=(80,22,10), thickness=2, circle_radius=4), # Draw the pose connections\n",
    "    mp_drawing. DrawingSpec (color=(80,44,121), thickness=2, circle_radius=2) # Draw the pose connections\n",
    "    )\n",
    "\n",
    "    # Draw Left hand connections\n",
    "    mp_drawing.draw_landmarks(image, results.left_hand_landmarks, mp_holistic. HAND_CONNECTIONS, # Draw the left hand landmarks \n",
    "    mp_drawing.DrawingSpec(color=(121,22,76), thickness=2, circle_radius=4), # Draw the left hand connections\n",
    "    mp_drawing.DrawingSpec (color= (121,44,250), thickness=2, circle_radius=2) # Draw the left hand connections\n",
    "    )\n",
    "\n",
    "    # Draw right hand connections\n",
    "    mp_drawing.draw_landmarks(image, results.right_hand_landmarks, mp_holistic.HAND_CONNECTIONS, # Draw the right hand landmarks\n",
    "    mp_drawing.DrawingSpec(color=(245,117,66), thickness=2, circle_radius=4), # Draw the right hand connections\n",
    "    mp_drawing. DrawingSpec (color=(245,66,230), thickness=2, circle_radius=2) # Draw the right hand connections\n",
    "    )"
   ]
  },
  {
   "cell_type": "code",
   "execution_count": 5,
   "metadata": {},
   "outputs": [],
   "source": [
    "def extract_keypoints(results): # Extract the landmarks from the results\n",
    "    # Extract pose landmarks\n",
    "    pose = np.array([[res.x, res.y, res.z, res.visibility] for res in results.pose_landmarks.landmark]).flatten() if results.pose_landmarks else np.zeros(33*4)\n",
    "    \n",
    "    # Extract face landmarks\n",
    "    # face = np.array([[res.x, res.y, res.z] for res in results.face_landmarks.landmark]).flatten() if results.face_landmarks else np.zeros(468*3)\n",
    "    \n",
    "    # Extract left hand landmarks\n",
    "    lh = np.array([[res.x, res.y, res.z] for res in results.left_hand_landmarks.landmark]).flatten() if results.left_hand_landmarks else np.zeros(21*3)\n",
    "    \n",
    "    # Extract right hand landmarks\n",
    "    rh = np.array([[res.x, res.y, res.z] for res in results.right_hand_landmarks.landmark]).flatten() if results.right_hand_landmarks else np.zeros(21*3)\n",
    "\n",
    "    # Concatenate the landmarks\n",
    "    return np.concatenate([pose, lh, rh])"
   ]
  },
  {
   "cell_type": "code",
   "execution_count": 6,
   "metadata": {},
   "outputs": [],
   "source": [
    "# Path for exported data, numpy arrays\n",
    "DATA_PATH = os.path.join('MP_Data_from_VIDEO') # Create a folder named MP_Data in the current directory\n",
    "\n",
    "# Actions that we try to detect\n",
    "actions = np.array(['again','boy','deaf','finish','girl','go','goodbye','hearing','hello','help',\n",
    "'how','i','know','like','love','man','more','my','need','no',\n",
    "'none','not','please','right','school','science','sentence','sign-language','sorry','sports',\n",
    "'student','thank-you','that','want','what','when','where','who','why','with',\n",
    "'without','woman','yes','you','your','i-love-you','youre-welcome','intelligent','friend','come-here',\n",
    "'go-away','see-you-later','baby','name'])\n",
    "\n",
    "no_videos = 60  # Number of sequences for each action\n",
    "sequence_length = 60  # Number of frames in each sequence\n"
   ]
  },
  {
   "cell_type": "code",
   "execution_count": 7,
   "metadata": {},
   "outputs": [],
   "source": [
    "for action in actions: # For each action\n",
    "    for sequence in range(no_videos): # For each sequence\n",
    "        try:\n",
    "            os.makedirs(os.path. join(DATA_PATH, action, str(sequence))) # Create a folder for each sequence\n",
    "        except:\n",
    "            pass"
   ]
  },
  {
   "cell_type": "code",
   "execution_count": 8,
   "metadata": {},
   "outputs": [
    {
     "name": "stderr",
     "output_type": "stream",
     "text": [
      "INFO: Created TensorFlow Lite XNNPACK delegate for CPU.\n"
     ]
    }
   ],
   "source": [
    "#convert each videos in video folder to numpy array\n",
    "\n",
    "for action in actions:\n",
    "    for sequence in range(no_videos):\n",
    "\n",
    "        cap = cv2.VideoCapture('Videos_Data/{}/{}_{}.mp4'.format(action, action, sequence))\n",
    "\n",
    "        with mp_holistic.Holistic(min_detection_confidence=0.5, min_tracking_confidence=0.5) as holistic: # Initialize the holistic model\n",
    "           \n",
    "            # Loop through video\n",
    "            for frame_num in range(sequence_length):\n",
    "                ret, frame = cap.read()\n",
    "                image, results = mediapipe_detection(frame, holistic) # Make prediction on the image\n",
    "\n",
    "                keypoints = extract_keypoints(results) # Extract the keypoints from the results i.e. the landmarks\n",
    "                npy_path = os.path.join(DATA_PATH, action, str(sequence), str(frame_num)) # Create a path to save the keypoints\n",
    "                np.save(npy_path, keypoints)\n",
    "        \n",
    "        cap.release()\n",
    "\n",
    "cv2.destroyAllWindows()\n",
    "                            "
   ]
  }
 ],
 "metadata": {
  "kernelspec": {
   "display_name": "Python 3.10.6 ('sign-lang-venv')",
   "language": "python",
   "name": "python3"
  },
  "language_info": {
   "codemirror_mode": {
    "name": "ipython",
    "version": 3
   },
   "file_extension": ".py",
   "mimetype": "text/x-python",
   "name": "python",
   "nbconvert_exporter": "python",
   "pygments_lexer": "ipython3",
   "version": "3.10.6"
  },
  "orig_nbformat": 4,
  "vscode": {
   "interpreter": {
    "hash": "893ab27978d457e3e6fe9f028332c2824b11422bc0a3ec196d56d5d90be81734"
   }
  }
 },
 "nbformat": 4,
 "nbformat_minor": 2
}
